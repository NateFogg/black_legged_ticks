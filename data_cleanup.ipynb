{
 "cells": [
  {
   "cell_type": "code",
   "execution_count": 496,
   "metadata": {},
   "outputs": [],
   "source": [
    "import pandas as pd\n",
    "\n",
    "# loading data \n",
    "try:\n",
    "    county_2022 = pd.read_excel('data/Ixodes_County_Table.xlsx', sheet_name = 3, dtype= str, names = ['FIPSCode', 'State', 'County', 'Scap_Status_2022', 'Pac_Status_2022'], header = None, skiprows = 1, usecols = [0, 1, 2, 3, 5])\n",
    "    county_2021 = pd.read_excel('data/Ixodes_County_Table.xlsx', sheet_name = 4, dtype= str, names = ['FIPSCode', 'Scap_Status_2021', 'Pac_Status_2021'], header = None, skiprows = 1, usecols = [0, 3, 5])\n",
    "    county_2020 = pd.read_excel('data/Ixodes_County_Table.xlsx', sheet_name = 5, dtype= str, names = ['FIPSCode', 'Scap_Status_2020', 'Pac_Status_2020'], header = None, skiprows = 1, usecols = [0, 3, 5])\n",
    "    county_2019 = pd.read_excel('data/Ixodes_County_Table.xlsx', sheet_name = 6, dtype= str, names = ['FIPSCode', 'Scap_Status_2019', 'Pac_Status_2019'], header = None, skiprows = 1, usecols = [0, 3, 5])\n",
    "    county_2018 = pd.read_excel('data/Ixodes_County_Table.xlsx', sheet_name = 7, dtype= str, names = ['FIPSCode', 'Scap_Status_2018', 'Pac_Status_2018'], header = None, skiprows = 1, usecols = [0, 3, 5])\n",
    "    county_2016 = pd.read_excel('data/Ixodes_County_Table.xlsx', sheet_name = 8, dtype= str, names = ['FIPSCode', 'Scap_Status_2016', 'Pac_Status_2016'], header = None, skiprows = 1, usecols = [0, 3, 5])\n",
    "    county_1996 = pd.read_excel('data/Ixodes_County_Table.xlsx', sheet_name = 9, dtype= str, names = ['FIPSCode', 'Scap_Status_1996', 'Pac_Status_1996'], header = None, skiprows = 1, usecols = [0, 3, 5])\n",
    "    pathogen_2022 = pd.read_excel('data/Ixodes_Pathogens_County_Table.xlsx', sheet_name = 3, dtype= str, names = ['FIPSCode', 'Borrelia_burgdorferi_sensu_stricto_2022', 'Borrelia_mayonii_2022', 'Borrelia_miyamotoi_2022', 'Anaplasma_phagocytophilum_2022', 'Ehrlichia_muris_eauclairensis_2022', 'Babesia_microti_2022', 'Powassan_virus_2022'], header = None, skiprows = 1, usecols = [0, 3, 5, 7, 9, 11, 13, 15])\n",
    "    pathogen_2021 = pd.read_excel('data/Ixodes_Pathogens_County_Table.xlsx', sheet_name = 4, dtype= str, names = ['FIPSCode', 'Borrelia_burgdorferi_sensu_stricto_2021', 'Borrelia_mayonii_2021', 'Borrelia_miyamotoi_2021', 'Anaplasma_phagocytophilum_2021', 'Ehrlichia_muris_eauclairensis_2021', 'Babesia_microti_2021', 'Powassan_virus_2021'], header = None, skiprows = 1, usecols = [0, 3, 5, 7, 9, 11, 13, 15])\n",
    "    pathogen_2020 = pd.read_excel('data/Ixodes_Pathogens_County_Table.xlsx', sheet_name = 5, dtype= str, names = ['FIPSCode', 'Borrelia_burgdorferi_sensu_stricto_2020', 'Borrelia_mayonii_2020'], header = None, skiprows = 1, usecols = [0, 3, 5])\n",
    "\n",
    "except:\n",
    "    print(\"Error in loading data...\")"
   ]
  },
  {
   "cell_type": "code",
   "execution_count": 497,
   "metadata": {},
   "outputs": [
    {
     "name": "stdout",
     "output_type": "stream",
     "text": [
      "FIPSCode column is unique: False\n",
      "     FIPSCode Borrelia_burgdorferi_sensu_stricto_2020 Borrelia_mayonii_2020\n",
      "1380    27131                              No records            No records\n",
      "1381    27131                              No records            No records\n",
      "1384    27137                              No records            No records\n",
      "1385    27137                                 Present            No records\n",
      "FIPSCode column is unique: True\n"
     ]
    }
   ],
   "source": [
    "# drop duplicate county in pathogens 2020 to merge data\n",
    "print(f\"FIPSCode column is unique: {pathogen_2020['FIPSCode'].is_unique}\")\n",
    "print(pathogen_2020[pathogen_2020['FIPSCode'].duplicated(keep=False)])\n",
    "\n",
    "pathogen_2020.drop(index = 1381, inplace = True)\n",
    "pathogen_2020.drop(index = 1384, inplace = True)\n",
    "\n",
    "# check\n",
    "print(f\"FIPSCode column is unique: {pathogen_2020['FIPSCode'].is_unique}\")\n",
    "\n"
   ]
  },
  {
   "cell_type": "code",
   "execution_count": 498,
   "metadata": {},
   "outputs": [],
   "source": [
    "# outer join on all years as there may be counties not in other years\n",
    "df_list = [county_2021, county_2020, county_2019, county_2018, county_2016, county_1996, pathogen_2022, pathogen_2021, pathogen_2020]\n",
    "for county in df_list:\n",
    "    county_2022 = county_2022.merge(county, on = ['FIPSCode'], how = 'outer', validate = 'one_to_one')\n",
    "counties = county_2022"
   ]
  },
  {
   "cell_type": "code",
   "execution_count": 499,
   "metadata": {},
   "outputs": [
    {
     "name": "stdout",
     "output_type": "stream",
     "text": [
      "(3148, 33)\n",
      "  FIPSCode State          County Scap_Status_2022 Pac_Status_2022  \\\n",
      "0    01001    AL  Autauga County      Established      No records   \n",
      "1    01003    AL  Baldwin County      Established      No records   \n",
      "2    01005    AL  Barbour County      Established      No records   \n",
      "3    01007    AL     Bibb County      Established      No records   \n",
      "4    01009    AL   Blount County       No records      No records   \n",
      "\n",
      "  Scap_Status_2021 Pac_Status_2021 Scap_Status_2020 Pac_Status_2020  \\\n",
      "0      Established      No records      Established      No records   \n",
      "1      Established      No records      Established      No records   \n",
      "2      Established      No records      Established      No records   \n",
      "3      Established      No records      Established      No records   \n",
      "4       No records      No records       No records      No records   \n",
      "\n",
      "  Scap_Status_2019  ... Powassan_virus_2022  \\\n",
      "0      Established  ...          No records   \n",
      "1      Established  ...          No records   \n",
      "2      Established  ...          No records   \n",
      "3      Established  ...          No records   \n",
      "4       No records  ...          No records   \n",
      "\n",
      "  Borrelia_burgdorferi_sensu_stricto_2021 Borrelia_mayonii_2021  \\\n",
      "0                              No records            No records   \n",
      "1                              No records            No records   \n",
      "2                              No records            No records   \n",
      "3                              No records            No records   \n",
      "4                              No records            No records   \n",
      "\n",
      "  Borrelia_miyamotoi_2021 Anaplasma_phagocytophilum_2021  \\\n",
      "0              No records                     No records   \n",
      "1              No records                     No records   \n",
      "2              No records                     No records   \n",
      "3              No records                     No records   \n",
      "4              No records                     No records   \n",
      "\n",
      "  Ehrlichia_muris_eauclairensis_2021 Babesia_microti_2021 Powassan_virus_2021  \\\n",
      "0                         No records           No records          No records   \n",
      "1                         No records           No records          No records   \n",
      "2                         No records           No records          No records   \n",
      "3                         No records           No records          No records   \n",
      "4                         No records           No records          No records   \n",
      "\n",
      "  Borrelia_burgdorferi_sensu_stricto_2020 Borrelia_mayonii_2020  \n",
      "0                              No records            No records  \n",
      "1                              No records            No records  \n",
      "2                              No records            No records  \n",
      "3                              No records            No records  \n",
      "4                              No records            No records  \n",
      "\n",
      "[5 rows x 33 columns]\n"
     ]
    }
   ],
   "source": [
    "# ensure the join was appropriate\n",
    "print(counties.shape)\n",
    "print(counties.head())"
   ]
  },
  {
   "cell_type": "code",
   "execution_count": 500,
   "metadata": {},
   "outputs": [
    {
     "name": "stdout",
     "output_type": "stream",
     "text": [
      "FIPSCode column is unique: True\n"
     ]
    },
    {
     "name": "stderr",
     "output_type": "stream",
     "text": [
      "/var/folders/2n/nbh_j1612xl31cxcjhl7k73w0000gn/T/ipykernel_55949/3029912918.py:8: FutureWarning: The frame.append method is deprecated and will be removed from pandas in a future version. Use pandas.concat instead.\n",
      "  counties = counties.append(state_county_list, ignore_index = True)\n"
     ]
    }
   ],
   "source": [
    "# Add missing counties in AK\n",
    "state_county_list = [\n",
    "    {'FIPSCode': '02230', 'State': 'AK', 'County': 'Skagway'},\n",
    "    {'FIPSCode': '02063', 'State': 'AK', 'County': 'Chugach'},\n",
    "    {'FIPSCode': '02275', 'State': 'AK', 'County': 'Wrangell'}\n",
    "]\n",
    "\n",
    "counties = counties.append(state_county_list, ignore_index = True)\n",
    "\n",
    "# Shannon County (46113) was renamed to Oglala Lakota County in 2014 and reassigned fips code 46102\n",
    "counties.drop(counties[counties['FIPSCode'] == '46102'].index, inplace = True)\n",
    "counties.loc[counties['FIPSCode'] == '46113', 'FIPSCode'] = '46102'\n",
    "counties.loc[counties['FIPSCode'] == '46102', 'County'] = 'Oglala Lakota County'\n",
    "\n",
    "# In 2013, Bedford City (51515), an independent city, merged with Bedford county (FIPS code=51019)\n",
    "counties.drop(counties[counties['FIPSCode'] == '51515'].index, inplace = True)\n",
    "\n",
    "print(f\"FIPSCode column is unique: {counties['FIPSCode'].is_unique}\")"
   ]
  },
  {
   "cell_type": "code",
   "execution_count": 501,
   "metadata": {},
   "outputs": [],
   "source": [
    "# replace null and invalid status values with no records\n",
    "POP_DESC = ['Established', 'Reported', 'Present', 'No Records']\n",
    "for col in counties.loc[:, 'Scap_Status_2022':'Borrelia_mayonii_2020']:\n",
    "    counties[col] = counties[col].apply(lambda x: 'No records' if str(x).title() not in POP_DESC else x)"
   ]
  },
  {
   "cell_type": "code",
   "execution_count": 502,
   "metadata": {},
   "outputs": [
    {
     "name": "stdout",
     "output_type": "stream",
     "text": [
      "3116    02013\n",
      "3117    02016\n",
      "3118    02020\n",
      "3119    02050\n",
      "3120    02060\n",
      "3121    02070\n",
      "3122    02100\n",
      "3123    02110\n",
      "3124    02122\n",
      "3125    02130\n",
      "3126    02150\n",
      "3127    02164\n",
      "3128    02170\n",
      "3129    02180\n",
      "3130    02188\n",
      "3131    02201\n",
      "3132    02220\n",
      "3133    02232\n",
      "3134    02261\n",
      "3135    02270\n",
      "3136    02280\n",
      "3137    02282\n",
      "3138    02290\n",
      "3139    02999\n",
      "3140    12999\n",
      "3141    13999\n",
      "3142    15001\n",
      "3143    15003\n",
      "3144    15005\n",
      "3145    15007\n",
      "3146    15009\n",
      "3147    19999\n",
      "Name: FIPSCode, dtype: object\n"
     ]
    }
   ],
   "source": [
    "print(counties[counties['State'].isnull()]['FIPSCode'])\n",
    "\n",
    "# Drop the rows with invalid FIPSCodes\n",
    "counties.drop(index = [3139, 3140, 3141, 3147],  inplace = True)"
   ]
  },
  {
   "cell_type": "code",
   "execution_count": 503,
   "metadata": {},
   "outputs": [
    {
     "name": "stdout",
     "output_type": "stream",
     "text": [
      "FIPSCode False\n",
      "State False\n",
      "County False\n",
      "Scap_Status_2022 False\n",
      "Pac_Status_2022 False\n",
      "Scap_Status_2021 False\n",
      "Pac_Status_2021 False\n",
      "Scap_Status_2020 False\n",
      "Pac_Status_2020 False\n",
      "Scap_Status_2019 False\n",
      "Pac_Status_2019 False\n",
      "Scap_Status_2018 False\n",
      "Pac_Status_2018 False\n",
      "Scap_Status_2016 False\n",
      "Pac_Status_2016 False\n",
      "Scap_Status_1996 False\n",
      "Pac_Status_1996 False\n",
      "Borrelia_burgdorferi_sensu_stricto_2022 False\n",
      "Borrelia_mayonii_2022 False\n",
      "Borrelia_miyamotoi_2022 False\n",
      "Anaplasma_phagocytophilum_2022 False\n",
      "Ehrlichia_muris_eauclairensis_2022 False\n",
      "Babesia_microti_2022 False\n",
      "Powassan_virus_2022 False\n",
      "Borrelia_burgdorferi_sensu_stricto_2021 False\n",
      "Borrelia_mayonii_2021 False\n",
      "Borrelia_miyamotoi_2021 False\n",
      "Anaplasma_phagocytophilum_2021 False\n",
      "Ehrlichia_muris_eauclairensis_2021 False\n",
      "Babesia_microti_2021 False\n",
      "Powassan_virus_2021 False\n",
      "Borrelia_burgdorferi_sensu_stricto_2020 False\n",
      "Borrelia_mayonii_2020 False\n"
     ]
    }
   ],
   "source": [
    "state_county_dict = {\n",
    "    3116:{'State': 'AK', 'County': 'Aleutians East Borough'}, \n",
    "    3117:{'State': 'AK', 'County': 'Aleutians West Census Area'}, \n",
    "    3118:{'State': 'AK', 'County': 'Anchorage Borough'}, \n",
    "    3119:{'State': 'AK', 'County': 'Bethel Census Area'}, \n",
    "    3120:{'State': 'AK', 'County': 'Bristol Bay Borough'}, \n",
    "    3121:{'State': 'AK', 'County': 'Dillingham Census Area'}, \n",
    "    3122:{'State': 'AK', 'County': 'Haines Borough'}, \n",
    "    3123:{'State': 'AK', 'County': 'Juneau Borough'}, \n",
    "    3124:{'State': 'AK', 'County': 'Kenai Peninsula Borough'}, \n",
    "    3125:{'State': 'AK', 'County': 'Ketchikan Gateway Borough'}, \n",
    "    3126:{'State': 'AK', 'County': 'Kodiak Island Borough'},\n",
    "    3127:{'State': 'AK', 'County': 'Lake and Peninsula Borough'}, \n",
    "    3128:{'State': 'AK', 'County': 'Matanuska-Susitna Borough'}, \n",
    "    3129:{'State': 'AK', 'County': 'Nome Census Area'}, \n",
    "    3130:{'State': 'AK', 'County': 'Northwest Arctic Borough'}, \n",
    "    3131:{'State': 'AK', 'County': 'Prince of Wales-Outer Ketchikan Census Area'}, \n",
    "    3132:{'State': 'AK', 'County': 'Sitka Borough'}, \n",
    "    3133:{'State': 'AK', 'County': 'Skagway-Hoonah-Angoon Census Area'}, \n",
    "    3134:{'State': 'AK', 'County': 'Valdez-Cordova Census Area'}, \n",
    "    3135:{'State': 'AK', 'County': 'Wade Hampton Census Area'}, \n",
    "    3136:{'State': 'AK', 'County': 'Wrangell-Petersburg Census Area'}, \n",
    "    3137:{'State': 'AK', 'County': 'Yakutat Borough'},\n",
    "    3138:{'State': 'AK', 'County': 'Yukon-Koyukuk Census Area'}, \n",
    "    3142:{'State': 'HI', 'County': 'Hawaii County'}, \n",
    "    3143:{'State': 'HI', 'County': 'Honolulu County'}, \n",
    "    3144:{'State': 'HI', 'County': 'Kalawao County'}, \n",
    "    3145:{'State': 'HI', 'County': 'Kauai County'}, \n",
    "    3146:{'State': 'HI', 'County': 'Maui County'}\n",
    "}\n",
    "\n",
    "temp_data = pd.DataFrame.from_dict(state_county_dict, orient='index')\n",
    "for index, row in temp_data.iterrows():\n",
    "    # Check if the index exists in the existing DataFrame\n",
    "    if index in counties.index:\n",
    "        # Update the corresponding row in the existing DataFrame\n",
    "        counties.loc[index, 'State'] = row['State']\n",
    "        counties.loc[index, 'County'] = row['County']\n",
    "\n",
    "# check for null values across cols\n",
    "for col in counties:\n",
    "    print(col, counties[col].isnull().values.any())"
   ]
  },
  {
   "cell_type": "code",
   "execution_count": 504,
   "metadata": {},
   "outputs": [],
   "source": [
    "# Want to better compare the prevelance using a scale: \n",
    "# {0 : no records, 1 : reported, 2 : Established since 2022, 3 : Established since 2021, 4 : Established since 2020,\n",
    "# 5 : Established since 2019, 6 : Established since 2018, 7 : Established since 2016, 8 : Established since 1996}\n",
    "\n",
    "# if a county has an established present get the count of # of established throughout the years (a county remains as established after the first as per guidelines set by CDC)\n",
    "# otherwise see if it has any reported years\n",
    "# else it has no records\n",
    "counties['Established_Count'] = counties.apply(lambda row: row.str.count('Established').sum(), axis = 1)\n",
    "counties['Status_Scale'] = counties.apply(lambda row: row['Established_Count'] if row['Established_Count'] > 0 else 0 if 'Reported' in row.values else -1, axis = 1)\n"
   ]
  },
  {
   "cell_type": "code",
   "execution_count": 505,
   "metadata": {},
   "outputs": [
    {
     "name": "stdout",
     "output_type": "stream",
     "text": [
      "(3145, 35) \n",
      "   FIPSCode State          County Scap_Status_2022 Pac_Status_2022  \\\n",
      "0    01001    AL  Autauga County      Established      No records   \n",
      "1    01003    AL  Baldwin County      Established      No records   \n",
      "2    01005    AL  Barbour County      Established      No records   \n",
      "3    01007    AL     Bibb County      Established      No records   \n",
      "4    01009    AL   Blount County       No records      No records   \n",
      "\n",
      "  Scap_Status_2021 Pac_Status_2021 Scap_Status_2020 Pac_Status_2020  \\\n",
      "0      Established      No records      Established      No records   \n",
      "1      Established      No records      Established      No records   \n",
      "2      Established      No records      Established      No records   \n",
      "3      Established      No records      Established      No records   \n",
      "4       No records      No records       No records      No records   \n",
      "\n",
      "  Scap_Status_2019  ... Borrelia_mayonii_2021 Borrelia_miyamotoi_2021  \\\n",
      "0      Established  ...            No records              No records   \n",
      "1      Established  ...            No records              No records   \n",
      "2      Established  ...            No records              No records   \n",
      "3      Established  ...            No records              No records   \n",
      "4       No records  ...            No records              No records   \n",
      "\n",
      "  Anaplasma_phagocytophilum_2021 Ehrlichia_muris_eauclairensis_2021  \\\n",
      "0                     No records                         No records   \n",
      "1                     No records                         No records   \n",
      "2                     No records                         No records   \n",
      "3                     No records                         No records   \n",
      "4                     No records                         No records   \n",
      "\n",
      "  Babesia_microti_2021 Powassan_virus_2021  \\\n",
      "0           No records          No records   \n",
      "1           No records          No records   \n",
      "2           No records          No records   \n",
      "3           No records          No records   \n",
      "4           No records          No records   \n",
      "\n",
      "  Borrelia_burgdorferi_sensu_stricto_2020 Borrelia_mayonii_2020  \\\n",
      "0                              No records            No records   \n",
      "1                              No records            No records   \n",
      "2                              No records            No records   \n",
      "3                              No records            No records   \n",
      "4                              No records            No records   \n",
      "\n",
      "  Established_Count Status_Scale  \n",
      "0                 7            7  \n",
      "1                 5            5  \n",
      "2                 7            7  \n",
      "3                 7            7  \n",
      "4                 0           -1  \n",
      "\n",
      "[5 rows x 35 columns]\n"
     ]
    }
   ],
   "source": [
    "print(counties.shape, '\\n', counties.head())"
   ]
  },
  {
   "cell_type": "code",
   "execution_count": 506,
   "metadata": {},
   "outputs": [],
   "source": [
    "# save fips as string otherwise to_excel will strip our leading zeros from fips code\n",
    "counties['FIPSCode'] = counties['FIPSCode'].astype('str')\n",
    "counties.to_excel('data/county_status.xlsx', index = False)\n"
   ]
  }
 ],
 "metadata": {
  "kernelspec": {
   "display_name": "Python 3",
   "language": "python",
   "name": "python3"
  },
  "language_info": {
   "codemirror_mode": {
    "name": "ipython",
    "version": 3
   },
   "file_extension": ".py",
   "mimetype": "text/x-python",
   "name": "python",
   "nbconvert_exporter": "python",
   "pygments_lexer": "ipython3",
   "version": "3.9.12"
  },
  "orig_nbformat": 4,
  "vscode": {
   "interpreter": {
    "hash": "aee8b7b246df8f9039afb4144a1f6fd8d2ca17a180786b69acc140d282b71a49"
   }
  }
 },
 "nbformat": 4,
 "nbformat_minor": 2
}
